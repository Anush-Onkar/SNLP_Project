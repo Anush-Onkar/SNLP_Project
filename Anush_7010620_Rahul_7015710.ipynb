{
 "cells": [
  {
   "cell_type": "markdown",
   "id": "60f12ad8",
   "metadata": {},
   "source": [
    "# SNLP 2021 Final Project \n",
    "\n",
    "Submitted by\n",
    "\n",
    "Name 1:Anush Onkarappa\n",
    "\n",
    "Student id 1:7010620\n",
    "\n",
    "Email 1:anon00001@stud.uni-saarland.de\n",
    "\n",
    "Name 2:Rahul Mudambi Venkatesh\n",
    "\n",
    "Student id 2:7015710\n",
    "\n",
    "Email 2:ramu00001@stud.uni-saarland.de"
   ]
  },
  {
   "cell_type": "markdown",
   "id": "c86f9ba3",
   "metadata": {},
   "source": [
    "## **1 Data Preparation**"
   ]
  },
  {
   "cell_type": "markdown",
   "id": "d968e1f2",
   "metadata": {},
   "source": [
    "We have used corpora `data/bengali_corpus.txt` and `data/alice_in_wonderland.txt`.\n",
    "\n",
    "### Command to run preproccessing and splitting of corpus into train & test(20%)"
   ]
  },
  {
   "cell_type": "code",
   "execution_count": null,
   "id": "278fd8bb",
   "metadata": {},
   "outputs": [],
   "source": [
    "#For English corpus\n",
    "!python preprocess_english.py "
   ]
  },
  {
   "cell_type": "code",
   "execution_count": null,
   "id": "52443211",
   "metadata": {},
   "outputs": [],
   "source": [
    "#For Bengali corpus\n",
    "!python preprocess_bengali.py"
   ]
  },
  {
   "cell_type": "markdown",
   "id": "635fb02f",
   "metadata": {},
   "source": [
    "## **2 Subword Segmentation**\n",
    "\n",
    "### Command to generate subwords for both English and Bengali\n",
    "Syntax for the command- python subwords.py **langauge** **vocabsize**"
   ]
  },
  {
   "cell_type": "code",
   "execution_count": null,
   "id": "94d07176",
   "metadata": {},
   "outputs": [],
   "source": [
    "#For English corpus\n",
    "!python subwords.py english 49  #here 49 is the vocabsize"
   ]
  },
  {
   "cell_type": "code",
   "execution_count": null,
   "id": "6177fee7",
   "metadata": {},
   "outputs": [],
   "source": [
    "#For Bengali corpus\n",
    "!python subwords.py english 32  #here 32 is the vocabsize"
   ]
  },
  {
   "cell_type": "markdown",
   "id": "3b5d392f",
   "metadata": {},
   "source": [
    "Resulting files: `en_s1.txt`, `en_s2.txt`, `en_s3.txt`, `bn_s1.txt`, `bn_s2.txt` and `bn_s3.txt` can be found in the current directory \n",
    "\n",
    "Trails for the above task to find the best performing vocabulary size for `s2` and `s3` can be found in folder `rnnlms/temp_models`"
   ]
  },
  {
   "cell_type": "markdown",
   "id": "b3e65a65",
   "metadata": {},
   "source": [
    "# TODO comment briefly on what you observe in terms of word segmentation."
   ]
  },
  {
   "cell_type": "markdown",
   "id": "447e326e",
   "metadata": {},
   "source": [
    "## **3 LM Training**"
   ]
  },
  {
   "cell_type": "code",
   "execution_count": null,
   "id": "311186bf",
   "metadata": {},
   "outputs": [],
   "source": [
    "#to move to the training folder\n",
    "%cd rnnlms"
   ]
  },
  {
   "cell_type": "code",
   "execution_count": null,
   "id": "abe54e01",
   "metadata": {},
   "outputs": [],
   "source": [
    "#example command to train LM \n",
    "!/home/snlp-project-21/rnnlm/rnnlm \\\n",
    "    -train ../subwords/english/32.txt \\\n",
    "    -valid ../subwords/english/32_test.txt \\\n",
    "    -rnnlm model \\\n",
    "      -hidden 40 \\\n",
    "      -rand-seed 1 \\\n",
    "      -debug 2 \\\n",
    "      -bptt 3 \\\n",
    "      -class 32\n",
    "\"\"\"\n",
    "The above command is run for the baseline first. The model and output is moved to:\n",
    "s1_bengali/bengali_49 - for subwords s1, bengali\n",
    "s2_bengali/bengali_100 - for subwords s2, bengali\n",
    "s3_bengali/bengali_1700 - for subwords s3, bengali\n",
    "s1_english/english_32 - for subwords s1, english\n",
    "s2_english/english_100 - for subwords s2, english\n",
    "s3_english/english_2600 - for subwords s3, english\n",
    "\n",
    "Then, hyperparameter tuning is done, which is discussed in the summary.\n",
    "The models and outputs for the tuning are moved to:\n",
    "s1_bengali/Trials - for subwords s1, bengali\n",
    "s2_bengali/Trials - for subwords s2, bengali\n",
    "s3_bengali/Trials - for subwords s3, bengali\n",
    "s1_english/Trials - for subwords s1, english\n",
    "s2_english/Trials - for subwords s2, english\n",
    "s3_english/Trials - for subwords s3, english\n",
    "\"\"\""
   ]
  },
  {
   "cell_type": "markdown",
   "id": "8261f1c0",
   "metadata": {},
   "source": [
    "## **4 Text Generation**"
   ]
  },
  {
   "cell_type": "code",
   "execution_count": null,
   "id": "f41c611e",
   "metadata": {},
   "outputs": [],
   "source": [
    "#to move to text generation folder\n",
    "%cd Text_Gen\n"
   ]
  },
  {
   "cell_type": "markdown",
   "id": "c42141e5",
   "metadata": {},
   "source": [
    "The train and test files should be copied to: \n",
    "    \n",
    "    data/english for english\n",
    "    data/bengali for bengali\n",
    "\n",
    "and renamed suitably(this is already done)\n",
    "\n",
    "The best perfoming model should be copied to : \n",
    "    \n",
    "    models/english for english\n",
    "    models/bengali for bengali\n",
    "\n",
    "and renamed suitably(this is already done)\n",
    "\n",
    "The corresponding sentence speech model should be copied to : \n",
    "    \n",
    "    SP_models/english for english\n",
    "    SP_models/bengali for bengali\n",
    "\n",
    "and renamed suitably(this is already done)\n",
    "\n",
    "Now we can run the text generation script"
   ]
  },
  {
   "cell_type": "code",
   "execution_count": null,
   "id": "795e3dd0",
   "metadata": {},
   "outputs": [],
   "source": [
    "%cd script\n",
    "!./test_english_s1.sh\n",
    "!./test_english_s2.sh\n",
    "!./test_english_s3.sh\n",
    "!./test_bengali_s1.sh\n",
    "!./test_bengali_s2.sh\n",
    "!./test_bengali_s3.sh\n",
    "%cd .."
   ]
  },
  {
   "cell_type": "markdown",
   "id": "8a219fbd",
   "metadata": {},
   "source": [
    "The generated text files are stored in temp folder which are moved to \n",
    "\n",
    "    s1_bengali/ for subwords s1, bengali\n",
    "    s2_bengali/ for subwords s2, bengali\n",
    "    s3_bengali/ for subwords s3, bengali\n",
    "    s1_english/ for subwords s1, english\n",
    "    s2_english/ for subwords s2, english\n",
    "    s3_english/ for subwords s3, english\n",
    "\n",
    "Now we have to decode the generated text files "
   ]
  },
  {
   "cell_type": "markdown",
   "id": "61542884",
   "metadata": {},
   "source": [
    "Syntax for the command-python decode.py **inputdirectory** "
   ]
  },
  {
   "cell_type": "code",
   "execution_count": null,
   "id": "982fc368",
   "metadata": {},
   "outputs": [],
   "source": [
    "#example command \n",
    "!python decode.py s1_english"
   ]
  },
  {
   "cell_type": "markdown",
   "id": "bc9ea90a",
   "metadata": {},
   "source": [
    "## TODO Inspect 100.txt for every model. Do you see a difference in the quality of the generated data? Why could that be?\n",
    "(Note: Your generated data will be in the form of subwords. You have to decode this back to word level to compare) (6 points)"
   ]
  },
  {
   "cell_type": "markdown",
   "id": "6bdf673a",
   "metadata": {},
   "source": [
    "## **5 OOV comparison**"
   ]
  },
  {
   "cell_type": "code",
   "execution_count": null,
   "id": "e7c7a4cb",
   "metadata": {},
   "outputs": [],
   "source": [
    "#to move to the OOV-Comparison folder\n",
    "%cd ..\n",
    "%cd OOV_Comparison/\n",
    "\n",
    "#This will print the OVV rate of english and bengali respectively for train data without any Augmentation\n",
    "!python task5.py english no #no is passed here to indicate no Augmentation of the data\n",
    "!python task5.py bengali no\n",
    "\n",
    "#yes is passed here to indicate Augmentation of the data with the previously generated data\n",
    "#It also plots the OVV rates against k, here k=0 indicates no Augmentation \n",
    "!python task5.py english yes \n",
    "!python task5.py bengali yes\n",
    "\n"
   ]
  },
  {
   "cell_type": "markdown",
   "id": "c79e3b52",
   "metadata": {},
   "source": [
    "### Observation from the plots:\n",
    "\n",
    "* With increase in k(size of the generated corpus) OOV rates  for the 3 models decreases\n",
    "* It can be seen that the OOV rates are the least for model augmented with subwords closer to words(s3)\n",
    "* For any practical application we can use s3 as OOV rate is the least.\n"
   ]
  },
  {
   "cell_type": "code",
   "execution_count": null,
   "id": "01d7b4c3",
   "metadata": {},
   "outputs": [],
   "source": []
  }
 ],
 "metadata": {
  "kernelspec": {
   "display_name": "Python 3",
   "language": "python",
   "name": "python3"
  },
  "language_info": {
   "codemirror_mode": {
    "name": "ipython",
    "version": 3
   },
   "file_extension": ".py",
   "mimetype": "text/x-python",
   "name": "python",
   "nbconvert_exporter": "python",
   "pygments_lexer": "ipython3",
   "version": "3.8.10"
  }
 },
 "nbformat": 4,
 "nbformat_minor": 5
}
